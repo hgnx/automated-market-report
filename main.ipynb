{
 "cells": [
  {
   "cell_type": "code",
   "execution_count": 1,
   "metadata": {},
   "outputs": [],
   "source": [
    "import os\n",
    "from tools import us_plots\n",
    "from reportlab.lib.pagesizes import A4\n",
    "from reportlab.lib.units import inch\n",
    "from reportlab.platypus import Table, Paragraph, Spacer, TableStyle, BaseDocTemplate, Frame, PageTemplate\n",
    "from reportlab.lib.styles import getSampleStyleSheet, ParagraphStyle\n",
    "from reportlab.lib import colors\n",
    "from reportlab.platypus.flowables import Image, Spacer, PageBreak\n",
    "from reportlab.platypus.paragraph import Paragraph\n",
    "from reportlab.pdfbase import pdfmetrics\n",
    "from reportlab.pdfbase.ttfonts import TTFont"
   ]
  },
  {
   "cell_type": "code",
   "execution_count": 2,
   "metadata": {},
   "outputs": [],
   "source": [
    "COMPANY_NAME = \"LOREM IPSUM<br />COMPANY\" # Use <br /> to break lines\n",
    "AUTHOR = \"HGNX\"\n",
    "AUTHOR_EMAIL = \"contact@hgk.im\"\n",
    "DATE = \"Jan 1, 2023\"\n",
    "FILE_NAME = \"output.pdf\""
   ]
  },
  {
   "cell_type": "code",
   "execution_count": 3,
   "metadata": {},
   "outputs": [],
   "source": [
    "class MyDocTemplate(BaseDocTemplate):\n",
    "    def __init__(self, filename, **kwargs):\n",
    "        BaseDocTemplate.__init__(self, filename, **kwargs)\n",
    "        frame_x = (A4[0] - 6*inch) / 2\n",
    "        template = PageTemplate('normal', [Frame(frame_x, 1*inch, 6*inch, 10*inch)])\n",
    "        self.addPageTemplates(template)\n",
    "\n",
    "    def afterFlowable(self, flowable):\n",
    "        \"Registers TOC entries.\"\n",
    "        if flowable.__class__ == Paragraph:\n",
    "            text = flowable.getPlainText()\n",
    "            self.notify('TOCEntry', (text, self.page))"
   ]
  },
  {
   "cell_type": "code",
   "execution_count": 4,
   "metadata": {},
   "outputs": [],
   "source": [
    "assets_folder = os.path.join(os.getcwd(), \"assets\")\n",
    "font = os.path.join(assets_folder, \"NotoSansKR[wght].ttf\")\n",
    "pdfmetrics.registerFont(TTFont('NotoSansKR', font))\n",
    "\n",
    "doc = MyDocTemplate(FILE_NAME, pagesize=A4)"
   ]
  },
  {
   "cell_type": "code",
   "execution_count": 5,
   "metadata": {},
   "outputs": [],
   "source": [
    "styles = getSampleStyleSheet()\n",
    "styles.add(ParagraphStyle(name='Center', alignment=1, fontSize=14, spaceAfter=20, textColor=colors.black, fontWeight='bold'))\n",
    "\n",
    "left_style = ParagraphStyle(name='Left', parent=styles['Normal'], alignment=0)\n",
    "center_style = ParagraphStyle(name='Center', parent=styles['Normal'], alignment=1, fontSize=14, spaceAfter=20, textColor=colors.black, fontWeight='bold', leading=18)\n",
    "right_style = ParagraphStyle(name='Right', parent=styles['Normal'], alignment=2, fontSize=8, leading=10)\n",
    "\n",
    "header = [\n",
    "    [\n",
    "        Paragraph(COMPANY_NAME, left_style),\n",
    "        \"\", \n",
    "        Paragraph(\"<b>STOCK MARKET<br />DAILY REPORT</b>\", center_style),\n",
    "        \"\", \n",
    "        Paragraph(f\"{AUTHOR}<br />{AUTHOR_EMAIL}<br />{DATE}\", right_style)\n",
    "    ]\n",
    "]\n",
    "\n",
    "header_table_style = TableStyle([\n",
    "    ('VALIGN', (0, 0), (-1, -1), 'MIDDLE'),\n",
    "    ('ALIGN', (0, 0), (-1, -1), 'CENTER'),\n",
    "    ('BOTTOMPADDING', (0, 0), (-1, -1), 15),\n",
    "    ('LINEBELOW', (0, 0), (-1, 0), 1, colors.grey),\n",
    "])\n",
    "\n",
    "header_table = Table(header, colWidths=[1.5*inch, 0.5*inch, 3*inch, 0.5*inch, 1.5*inch])\n",
    "header_table.setStyle(header_table_style)\n",
    "\n",
    "story = [header_table, Spacer(1, 0.3*inch)]"
   ]
  },
  {
   "cell_type": "code",
   "execution_count": 6,
   "metadata": {},
   "outputs": [],
   "source": [
    "caption_style = ParagraphStyle(name='Caption', parent=styles['Normal'], fontSize=7, alignment=0)\n",
    "caption_indices = Paragraph(\"● Global Stock Market\", caption_style)\n",
    "caption_ficc = Paragraph(\"● FICC\", caption_style)\n",
    "caption_gainers = Paragraph(\"● Top Gainers\", caption_style)\n",
    "caption_losers = Paragraph(\"● Top Losers\", caption_style)"
   ]
  },
  {
   "cell_type": "code",
   "execution_count": 7,
   "metadata": {},
   "outputs": [],
   "source": [
    "table_indices_data = [\n",
    "    [\"Country\", \"Closed(pt)\", \"1D(%)\", \"1W(%)\", \"MTD(%)\", \"1M(%)\", \"YTD(%)\"],\n",
    "    [\"DOW\", \"34,509.03\", \"0.33\", \"2.29\", \"1.13\", \"1.56\", \"4.11\"],\n",
    "    [\"S&P500\", \"4,505.42\", \"-0.10\", \"2.42\", \"2.48\", \"3.04\", \"17.34\"],\n",
    "    [\"NASDAQ\", \"14,113.70\", \"-0.18\", \"3.32\", \"3.84\", \"3.58\", \"34.85\"],\n",
    "    [\"RUSSELL 2000\", \"1,931.09\", \"-1.01\", \"3.56\", \"2.63\", \"3.04\", \"9.64\"],\n",
    "    [\"STOXX 600\", \"460.83\", \"-0.11\", \"2.94\", \"0.92\", \"-0.88\", \"8.46\"],\n",
    "    [\"영국(FTSE)\", \"7,434.57\", \"-0.08\", \"2.45\", \"-0.50\", \"-2.21\", \"-0.23\"],\n",
    "    [\"프랑스(CAC)\", \"7,374.54\", \"0.06\", \"3.69\", \"0.85\", \"0.63\", \"13.91\"],\n",
    "    [\"독일(DAX)\", \"16,105.07\", \"-0.22\", \"3.22\", \"0.99\", \"-1.26\", \"15.67\"],\n",
    "    [\"상해종합\", \"3,237.70\", \"0.04\", \"1.29\", \"1.74\", \"0.27\", \"4.81\"],\n",
    "    [\"홍콩H\", \"19,413.78\", \"0.33\", \"5.71\", \"2.53\", \"0.03\", \"-1.86\"],\n",
    "    [\"항셍지수\", \"6,558.88\", \"0.23\", \"5.81\", \"2.06\", \"-0.27\", \"-2.18\"],\n",
    "    [\"니케이225\", \"32,391.26\", \"-0.09\", \"0.01\", \"-2.54\", \"-3.32\", \"24.13\"],\n",
    "    [\"KOSPI\", \"2,628.30\", \"1.43\", \"4.02\", \"3.07\", \"0.35\", \"17.52\"]\n",
    "]\n",
    "\n",
    "table_ficc_data = [\n",
    "    [\"Category\", \"Closed(pt)\", \"1D(bp, %)\", \"1W(bp, %)\", \"MTD(bp, %)\", \"1M(bp, %)\", \"YTD(bp, %)\"],\n",
    "    [\"미국채2년(%)\", \"4.77\", \"13.5bp\", \"-18.0bp\", \"-9.4bp\", \"7.8bp\", \"34.0bp\"],\n",
    "    [\"미국채10년(%)\", \"3.83\", \"6.9bp\", \"-22.9bp\", \"-0.6bp\", \"4.6bp\", \"-4.3bp\"],\n",
    "    [\"국고채3년(%)\", \"3.62\", \"1.3bp\", \"-12.0bp\", \"2.0bp\", \"7.6bp\", \"-11.0bp\"],\n",
    "    [\"독일10년(%)\", \"2.51\", \"3.2bp\", \"-12.5bp\", \"9.5bp\", \"6.1bp\", \"-5.6bp\"],\n",
    "    [\"일본10년(%)\", \"0.47\", \"0.7bp\", \"5.3bp\", \"9.1bp\", \"4.9bp\", \"6.1bp\"],\n",
    "    [\"달러인덱스(pt)\", \"99.91\", \"0.14\", \"-2.31\", \"-3.32\", \"-2.95\", \"-3.49\"],\n",
    "    [\"NDF 환율(1M)\", \"1,267.43\", \"0.19\", \"-2.32\", \"-4.00\", \"-0.37\", \"0.49\"],\n",
    "    [\"유로/달러\", \"1.12\", \"0.02\", \"2.38\", \"3.34\", \"3.67\", \"4.89\"],\n",
    "    [\"위안/달러\", \"7.14\", \"-0.10\", \"-1.15\", \"-1.46\", \"-0.28\", \"3.53\"],\n",
    "    [\"엔/달러\", \"138.80\", \"0.54\", \"-2.40\", \"-4.12\", \"-0.92\", \"5.86\"],\n",
    "    [\"WTI(NYMEX)\", \"75.42\", \"-1.91\", \"2.11\", \"7.96\", \"10.17\", \"-4.96\"],\n",
    "    [\"구리(LME)\", \"8,663.25\", \"-0.31\", \"3.51\", \"5.88\", \"1.73\", \"3.48\"],\n",
    "    [\"금(NYMEX)\", \"1,964.40\", \"0.03\", \"1.65\", \"2.42\", \"-0.23\", \"4.85\"]\n",
    "]"
   ]
  },
  {
   "cell_type": "code",
   "execution_count": 8,
   "metadata": {},
   "outputs": [],
   "source": [
    "table_gainers_data = [\n",
    "    [\"Ticker\", \"Company\", \"Price\", \"Change\", \"Change(%)\"],\n",
    "    [\"PKG\", \"Packaging Corp of America\", \"152.65\", \"13.98\", \"10.08\"],\n",
    "    [\"MSCI\", \"MSCI Inc\", \"548.20\", \"45.45\", \"9.04\"],\n",
    "    [\"GE\", \"General Electric Co\", \"117.16\", \"6.91\", \"6.27\"],\n",
    "    [\"PHM\", \"Pultegroup Inc\", \"83.42\", \"4.89\", \"6.23\"],\n",
    "    [\"MMM\", \"3M Co\", \"109.83\", \"5.56\", \"5.33\"],\n",
    "    [\"IP\", \"International Paper Co\", \"33.93\", \"1.56\", \"4.82\"],\n",
    "    [\"WRK\", \"Westrock Co\", \"32.06\", \"1.30\", \"4.23\"],\n",
    "    [\"FCX\", \"Freeport-McMoRan Inc\", \"43.69\", \"1.59\", \"3.78\"],\n",
    "    [\"NUE\", \"Nucor Corp\", \"172.88\", \"6.23\", \"3.74\"],\n",
    "    [\"ADM\", \"Archer-Daniels-Midland Co\", \"86.05\", \"2.94\", \"3.54\"]\n",
    "]\n",
    "\n",
    "table_losers_data = [\n",
    "    [\"Ticker\", \"Company\", \"Price\", \"Change\", \"Change(%)\"],\n",
    "    [\"RTX\", \"Rtx Corp\", \"87.10\", \"-9.91\", \"-10.22\"],\n",
    "    [\"ALK\", \"Alaska Air Group Inc\", \"48.18\", \"-5.15\", \"-9.66\"],\n",
    "    [\"IVZ\", \"Invesco Ltd\", \"16.62\", \"-1.34\", \"-7.46\"],\n",
    "    [\"LW\", \"Lamb Weston Holdings Inc\", \"105.00\", \"-7.69\", \"-6.82\"],\n",
    "    [\"LUV\", \"Southwest Airlines Co\", \"35.53\", \"-1.67\", \"-4.49\"],\n",
    "    [\"DOV\", \"Dover Corp\", \"146.51\", \"-5.58\", \"-3.67\"],\n",
    "    [\"MTD\", \"Mettler-Toledo International Inc\", \"1,312.92\", \"-49.10\", \"-3.60\"],\n",
    "    [\"USB\", \"US Bancorp\", \"37.86\", \"-1.40\", \"-3.57\"],\n",
    "    [\"GM\", \"General Motors Co\", \"37.92\", \"-1.38\", \"-3.51\"],\n",
    "    [\"VFC\", \"VF Corp\", \"18.89\", \"-0.63\", \"-3.23\"]\n",
    "]"
   ]
  },
  {
   "cell_type": "code",
   "execution_count": 9,
   "metadata": {},
   "outputs": [],
   "source": [
    "table_style_overview = [\n",
    "    ('LINEABOVE', (0, 1), (-1, 1), 0.5, colors.grey),\n",
    "    ('BOX', (0, 0), (-1, -1), 0, colors.transparent),\n",
    "    ('GRID', (0, 0), (-1, -1), 0, colors.transparent),\n",
    "    ('VALIGN', (0, 0), (-1, -1), 'MIDDLE'),\n",
    "    ('ALIGN', (0, 0), (-1, 0), 'RIGHT'),\n",
    "    ('ALIGN', (0, 0), (0, -1), 'LEFT'),\n",
    "    ('ALIGN', (1, 1), (-1, -1), 'RIGHT'),\n",
    "    ('FONTNAME', (0, 0), (-1, -1), 'NotoSansKR'),\n",
    "    ('FONTSIZE', (0, 0), (-1, -1), 5),\n",
    "    ('LEFTPADDING', (0, 0), (-1, -1), 1),\n",
    "    ('RIGHTPADDING', (0, 0), (-1, -1), 1),\n",
    "]\n",
    "\n",
    "table_style_movers = [\n",
    "    ('LINEABOVE', (0, 1), (-1, 1), 0.5, colors.grey),\n",
    "    ('BOX', (0, 0), (-1, -1), 0, colors.transparent),\n",
    "    ('GRID', (0, 0), (-1, -1), 0, colors.transparent),\n",
    "    ('VALIGN', (0, 0), (-1, -1), 'MIDDLE'),\n",
    "    ('ALIGN', (0, 0), (-1, 0), 'RIGHT'),\n",
    "    ('ALIGN', (0, 0), (1, -1), 'LEFT'),\n",
    "    ('ALIGN', (2, 1), (-1, -1), 'RIGHT'),\n",
    "    ('FONTNAME', (0, 0), (-1, -1), 'NotoSansKR'),\n",
    "    ('FONTSIZE', (0, 0), (-1, -1), 5),\n",
    "    ('LEFTPADDING', (0, 0), (-1, -1), 1),\n",
    "    ('RIGHTPADDING', (0, 0), (-1, -1), 1),\n",
    "]"
   ]
  },
  {
   "cell_type": "code",
   "execution_count": 10,
   "metadata": {},
   "outputs": [],
   "source": [
    "additional_space = 0.3*inch\n",
    "\n",
    "total_table_width = 6*inch - 0.1*inch - additional_space\n",
    "single_table_width = total_table_width / 2\n",
    "column_width = single_table_width / 6\n",
    "table_row_height = 0.15*inch"
   ]
  },
  {
   "cell_type": "code",
   "execution_count": 11,
   "metadata": {},
   "outputs": [],
   "source": [
    "table_overview_column_width = single_table_width / 6\n",
    "table_indices = Table(table_indices_data, [column_width for _ in range(7)], [table_row_height for _ in range(len(table_indices_data))])\n",
    "table_indices.setStyle(table_style_overview)\n",
    "\n",
    "table_ficc = Table(table_ficc_data, [column_width for _ in range(7)], [table_row_height for _ in range(len(table_ficc_data))])\n",
    "table_ficc.setStyle(table_style_overview)\n",
    "\n",
    "table_overview_data = [[caption_indices, Spacer(0.1*inch, 0), caption_ficc],\n",
    "                       [table_indices, Spacer(0.1*inch, 0), table_ficc]]\n",
    "table_overview = Table(table_overview_data)"
   ]
  },
  {
   "cell_type": "code",
   "execution_count": 12,
   "metadata": {},
   "outputs": [],
   "source": [
    "mover_first_column_width = column_width * 0.9\n",
    "mover_second_column_width = column_width + (column_width * 1.5)\n",
    "mover_other_columns_width = column_width * 1.2\n",
    "\n",
    "table_mover_width = [mover_first_column_width, mover_second_column_width] + [mover_other_columns_width for _ in range(3)]\n",
    "table_gainers = Table(table_gainers_data, table_mover_width, [table_row_height for _ in range(len(table_gainers_data))])\n",
    "table_gainers.setStyle(table_style_movers)\n",
    "\n",
    "table_losers = Table(table_losers_data, table_mover_width, [table_row_height for _ in range(len(table_losers_data))])\n",
    "table_losers.setStyle(table_style_movers)\n",
    "\n",
    "table_mover_data = [[caption_gainers, Spacer(0.1*inch, 0), caption_losers],\n",
    "                    [table_gainers, Spacer(0.1*inch, 0), table_losers]]\n",
    "table_mover = Table(table_mover_data)"
   ]
  },
  {
   "cell_type": "code",
   "execution_count": 13,
   "metadata": {},
   "outputs": [],
   "source": [
    "us_plots.create_plots()\n",
    "\n",
    "nasdaq_graph = Image(os.path.join(assets_folder, \"nasdaq.png\"), 2.4*inch, 1.6*inch)\n",
    "sp500_graph = Image(os.path.join(assets_folder, \"sp500.png\"), 2.4*inch, 1.6*inch)\n",
    "sectors_graph = Image(os.path.join(assets_folder, \"sectors.png\"), 2.4*inch, 1.6*inch)\n",
    "\n",
    "graph_data = [\n",
    "    nasdaq_graph, \n",
    "    Spacer(0.1*inch, 0), \n",
    "    sp500_graph, \n",
    "    Spacer(0.1*inch, 0), \n",
    "    sectors_graph\n",
    "]\n",
    "graph_table = Table([graph_data], colWidths=[2.4*inch, 0.001*inch, 2.4*inch, 0.001*inch, 2.4*inch])"
   ]
  },
  {
   "cell_type": "code",
   "execution_count": 14,
   "metadata": {},
   "outputs": [],
   "source": [
    "story.append(table_overview)\n",
    "story.append(Spacer(1, 0.05*inch))\n",
    "story.append(graph_table)\n",
    "story.append(Spacer(1, 0.05*inch))\n",
    "story.append(table_mover)\n",
    "doc.build(story)"
   ]
  },
  {
   "cell_type": "code",
   "execution_count": 15,
   "metadata": {},
   "outputs": [],
   "source": [
    "image_files = [\"nasdaq.png\", \"sp500.png\", \"sectors.png\"]\n",
    "for image_file in image_files:\n",
    "    image_path = os.path.join(assets_folder, image_file)\n",
    "    if os.path.exists(image_path):\n",
    "        os.remove(image_path)"
   ]
  }
 ],
 "metadata": {
  "kernelspec": {
   "display_name": "TEST",
   "language": "python",
   "name": "python3"
  },
  "language_info": {
   "codemirror_mode": {
    "name": "ipython",
    "version": 3
   },
   "file_extension": ".py",
   "mimetype": "text/x-python",
   "name": "python",
   "nbconvert_exporter": "python",
   "pygments_lexer": "ipython3",
   "version": "3.11.3"
  },
  "orig_nbformat": 4
 },
 "nbformat": 4,
 "nbformat_minor": 2
}
