{
 "cells": [
  {
   "cell_type": "code",
   "execution_count": 3,
   "metadata": {},
   "outputs": [],
   "source": [
    "import os\n",
    "import datetime\n",
    "from tools import indices, ficc, us_plots, top_movers, calendar, mainnews\n",
    "from reportlab.lib.pagesizes import A4\n",
    "from reportlab.lib.units import inch\n",
    "from reportlab.platypus import Table, Paragraph, Spacer, TableStyle, BaseDocTemplate, Frame, PageTemplate\n",
    "from reportlab.lib.styles import getSampleStyleSheet, ParagraphStyle\n",
    "from reportlab.lib import colors\n",
    "from reportlab.platypus.flowables import Image, Spacer, PageBreak\n",
    "from reportlab.platypus.paragraph import Paragraph\n",
    "from reportlab.pdfbase import pdfmetrics\n",
    "from reportlab.pdfbase.ttfonts import TTFont"
   ]
  },
  {
   "cell_type": "code",
   "execution_count": 4,
   "metadata": {},
   "outputs": [],
   "source": [
    "COMPANY_NAME = \"LOREM IPSUM<br />COMPANY\" # Use <br /> to break lines\n",
    "AUTHOR = \"HGNX\"\n",
    "AUTHOR_EMAIL = \"contact@hgk.im\"\n",
    "DATE = datetime.datetime.now().strftime(\"%Y-%m-%d\")\n",
    "DATE_FILENAME = datetime.datetime.now().strftime(\"%Y%m%d\")\n",
    "# FILE_NAME = f\"output_{DATE_FILENAME}.pdf\"\n",
    "FILE_NAME = \"output.pdf\""
   ]
  },
  {
   "cell_type": "code",
   "execution_count": 5,
   "metadata": {},
   "outputs": [],
   "source": [
    "class MyDocTemplate(BaseDocTemplate):\n",
    "    def __init__(self, filename, **kwargs):\n",
    "        BaseDocTemplate.__init__(self, filename, **kwargs)\n",
    "        frame_x = (A4[0] - 6*inch) / 2\n",
    "        template = PageTemplate('normal', [Frame(frame_x, 1*inch, 6*inch, 10*inch)])\n",
    "        self.addPageTemplates(template)\n",
    "\n",
    "    def afterFlowable(self, flowable):\n",
    "        \"Registers TOC entries.\"\n",
    "        if flowable.__class__ == Paragraph:\n",
    "            text = flowable.getPlainText()\n",
    "            self.notify('TOCEntry', (text, self.page))"
   ]
  },
  {
   "cell_type": "code",
   "execution_count": 6,
   "metadata": {},
   "outputs": [],
   "source": [
    "assets_folder = os.path.join(os.getcwd(), \"assets\")\n",
    "font = os.path.join(assets_folder, \"NotoSansKR[wght].ttf\")\n",
    "pdfmetrics.registerFont(TTFont('NotoSansKR', font))\n",
    "\n",
    "doc = MyDocTemplate(FILE_NAME, pagesize=A4)"
   ]
  },
  {
   "cell_type": "code",
   "execution_count": 7,
   "metadata": {},
   "outputs": [],
   "source": [
    "styles = getSampleStyleSheet()\n",
    "styles.add(ParagraphStyle(name='Center', alignment=1, fontSize=14, spaceAfter=20, textColor=colors.black, fontWeight='bold'))\n",
    "\n",
    "left_style = ParagraphStyle(name='Left', parent=styles['Normal'], alignment=0)\n",
    "center_style = ParagraphStyle(name='Center', parent=styles['Normal'], alignment=1, fontSize=14, spaceAfter=20, textColor=colors.black, fontWeight='bold', leading=18)\n",
    "right_style = ParagraphStyle(name='Right', parent=styles['Normal'], alignment=2, fontSize=8, leading=10)\n",
    "\n",
    "header = [\n",
    "    [\n",
    "        Paragraph(COMPANY_NAME, left_style),\n",
    "        \"\", \n",
    "        Paragraph(\"<b>STOCK MARKET<br />DAILY REPORT</b>\", center_style),\n",
    "        \"\", \n",
    "        Paragraph(f\"{AUTHOR}<br />{AUTHOR_EMAIL}<br />{DATE}\", right_style)\n",
    "    ]\n",
    "]\n",
    "\n",
    "header_table_style = TableStyle([\n",
    "    ('VALIGN', (0, 0), (-1, -1), 'MIDDLE'),\n",
    "    ('ALIGN', (0, 0), (-1, -1), 'CENTER'),\n",
    "    ('BOTTOMPADDING', (0, 0), (-1, -1), 20),\n",
    "    ('LINEBELOW', (0, 0), (-1, 0), 1, colors.grey),\n",
    "])\n",
    "\n",
    "header_table = Table(header, colWidths=[1.5*inch, 0.5*inch, 3*inch, 0.5*inch, 1.5*inch])\n",
    "header_table.setStyle(header_table_style)\n",
    "\n",
    "story = [header_table, Spacer(1, 0.3*inch)]"
   ]
  },
  {
   "cell_type": "code",
   "execution_count": 8,
   "metadata": {},
   "outputs": [],
   "source": [
    "caption_style = ParagraphStyle(name='Caption', parent=styles['Normal'], fontSize=7, alignment=0)\n",
    "caption_style2 = ParagraphStyle(name='Caption', parent=styles['Normal'], fontSize=7, alignment=0, leading=5)\n",
    "caption_indices = Paragraph(\"● Global Stock Market\", caption_style)\n",
    "caption_ficc = Paragraph(\"● FICC\", caption_style)\n",
    "caption_gainers = Paragraph(\"● Top Gainers\", caption_style)\n",
    "caption_losers = Paragraph(\"● Top Losers\", caption_style)\n",
    "caption_events = Paragraph(\"● Key Events Today\", caption_style2)"
   ]
  },
  {
   "cell_type": "code",
   "execution_count": 9,
   "metadata": {},
   "outputs": [
    {
     "name": "stderr",
     "output_type": "stream",
     "text": [
      "Getting Indices Data: 100%|██████████| 13/13 [00:03<00:00,  3.72it/s]\n",
      "Getting FICC Data: 100%|██████████| 13/13 [00:06<00:00,  1.96it/s]\n"
     ]
    }
   ],
   "source": [
    "table_indices_data = indices.get_all_indices_data()\n",
    "table_ficc_data = ficc.get_all_ficc_data()"
   ]
  },
  {
   "cell_type": "code",
   "execution_count": 10,
   "metadata": {},
   "outputs": [
    {
     "name": "stderr",
     "output_type": "stream",
     "text": [
      "Getting ETFs Data: 100%|██████████| 11/11 [00:05<00:00,  2.13it/s]\n"
     ]
    }
   ],
   "source": [
    "us_plots.create_plots()\n",
    "\n",
    "nasdaq_graph = Image(os.path.join(assets_folder, \"nasdaq.png\"), 2.4*inch, 1.6*inch)\n",
    "sp500_graph = Image(os.path.join(assets_folder, \"sp500.png\"), 2.4*inch, 1.6*inch)\n",
    "sectors_graph = Image(os.path.join(assets_folder, \"sectors.png\"), 2.4*inch, 1.6*inch)  # Increased the height\n",
    "\n",
    "table_graph_data = [\n",
    "    nasdaq_graph, \n",
    "    Spacer(0.1*inch, 0), \n",
    "    sp500_graph, \n",
    "    Spacer(0.1*inch, 0), \n",
    "    sectors_graph\n",
    "]\n",
    "table_graph = Table([table_graph_data], colWidths=[2.4*inch, 0.001*inch, 2.4*inch, 0.001*inch, 2.4*inch])"
   ]
  },
  {
   "cell_type": "code",
   "execution_count": 11,
   "metadata": {},
   "outputs": [],
   "source": [
    "table_gainers_data, table_losers_data = top_movers.get_top_movers_data()"
   ]
  },
  {
   "cell_type": "code",
   "execution_count": 12,
   "metadata": {},
   "outputs": [],
   "source": [
    "table_events_data = calendar.get_all_economic_data()"
   ]
  },
  {
   "cell_type": "code",
   "execution_count": 13,
   "metadata": {},
   "outputs": [],
   "source": [
    "table_style_overview = [\n",
    "    ('LINEABOVE', (0, 1), (-1, 1), 0.5, colors.grey),\n",
    "    ('BOX', (0, 0), (-1, -1), 0, colors.transparent),\n",
    "    ('GRID', (0, 0), (-1, -1), 0, colors.transparent),\n",
    "    ('VALIGN', (0, 0), (-1, -1), 'MIDDLE'),\n",
    "    ('ALIGN', (0, 0), (-1, 0), 'RIGHT'),\n",
    "    ('ALIGN', (0, 0), (0, -1), 'LEFT'),\n",
    "    ('ALIGN', (1, 1), (-1, -1), 'RIGHT'),\n",
    "    ('FONTNAME', (0, 0), (-1, -1), 'NotoSansKR'),\n",
    "    ('FONTSIZE', (0, 0), (-1, -1), 5),\n",
    "    ('LEFTPADDING', (0, 0), (-1, -1), 1),\n",
    "    ('RIGHTPADDING', (0, 0), (-1, -1), 1),\n",
    "]\n",
    "\n",
    "table_style_movers = [\n",
    "    ('LINEABOVE', (0, 1), (-1, 1), 0.5, colors.grey),\n",
    "    ('BOX', (0, 0), (-1, -1), 0, colors.transparent),\n",
    "    ('GRID', (0, 0), (-1, -1), 0, colors.transparent),\n",
    "    ('VALIGN', (0, 0), (-1, -1), 'MIDDLE'),\n",
    "    ('ALIGN', (0, 0), (-1, 0), 'RIGHT'),\n",
    "    ('ALIGN', (0, 0), (1, -1), 'LEFT'),\n",
    "    ('ALIGN', (2, 1), (-1, -1), 'RIGHT'),\n",
    "    ('FONTNAME', (0, 0), (-1, -1), 'NotoSansKR'),\n",
    "    ('FONTSIZE', (0, 0), (-1, -1), 5),\n",
    "    ('LEFTPADDING', (0, 0), (-1, -1), 1),\n",
    "    ('RIGHTPADDING', (0, 0), (-1, -1), 1),\n",
    "]\n",
    "\n",
    "table_style_events = [\n",
    "    ('LINEABOVE', (0, 3), (-1, 3), 0.5, colors.grey),\n",
    "    ('TOPPADDING', (0, 0), (-1, 1), 0),\n",
    "    ('BOTTOMPADDING', (0, 0), (-1, 1), 0),\n",
    "    ('BOX', (0, 0), (-1, -1), 0, colors.transparent),\n",
    "    ('GRID', (0, 0), (-1, -1), 0, colors.transparent),\n",
    "    ('VALIGN', (0, 0), (-1, -1), 'MIDDLE'),\n",
    "    ('ALIGN', (0, 0), (-1, 0), 'RIGHT'),\n",
    "    ('ALIGN', (0, 0), (2, -1), 'LEFT'),\n",
    "    ('ALIGN', (3, 1), (-1, -1), 'RIGHT'),\n",
    "    ('FONTNAME', (0, 0), (-1, -1), 'NotoSansKR'),\n",
    "    ('FONTSIZE', (0, 0), (-1, -1), 5),\n",
    "    ('LEFTPADDING', (0, 0), (-1, -1), 1),\n",
    "    ('RIGHTPADDING', (0, 0), (-1, -1), 1),\n",
    "]\n",
    "\n",
    "table_news_style = TableStyle([\n",
    "    ('VALIGN', (0, 0), (-1, -1), 'TOP'),\n",
    "    ('ALIGN', (0, 0), (-1, -1), 'LEFT'),\n",
    "    ('TOPPADDING', (0, 0), (-1, -1), 0),\n",
    "    ('BOTTOMPADDING', (0, 0), (-1, -1), 5)\n",
    "])"
   ]
  },
  {
   "cell_type": "code",
   "execution_count": 14,
   "metadata": {},
   "outputs": [],
   "source": [
    "additional_space = 0.3*inch\n",
    "\n",
    "total_table_width = 6*inch - 0.1*inch - additional_space\n",
    "single_table_width = total_table_width / 2\n",
    "column_width = single_table_width / 6\n",
    "table_row_height = 0.15*inch"
   ]
  },
  {
   "cell_type": "code",
   "execution_count": 15,
   "metadata": {},
   "outputs": [],
   "source": [
    "table_overview_column_width = single_table_width / 6\n",
    "table_indices = Table(table_indices_data, [column_width for _ in range(7)], [table_row_height for _ in range(len(table_indices_data))])\n",
    "table_indices.setStyle(table_style_overview)\n",
    "\n",
    "table_ficc = Table(table_ficc_data, [column_width for _ in range(7)], [table_row_height for _ in range(len(table_ficc_data))])\n",
    "table_ficc.setStyle(table_style_overview)\n",
    "\n",
    "table_overview_data = [[caption_indices, Spacer(0.1*inch, 0), caption_ficc],\n",
    "                       [table_indices, Spacer(0.1*inch, 0), table_ficc]]\n",
    "table_overview = Table(table_overview_data)"
   ]
  },
  {
   "cell_type": "code",
   "execution_count": 16,
   "metadata": {},
   "outputs": [],
   "source": [
    "mover_first_column_width = column_width * 0.9\n",
    "mover_second_column_width = column_width + (column_width * 1.5)\n",
    "mover_other_columns_width = column_width * 1.2\n",
    "\n",
    "table_mover_width = [mover_first_column_width, mover_second_column_width] + [mover_other_columns_width for _ in range(3)]\n",
    "table_gainers = Table(table_gainers_data, table_mover_width, [table_row_height for _ in range(len(table_gainers_data))])\n",
    "table_gainers.setStyle(table_style_movers)\n",
    "\n",
    "table_losers = Table(table_losers_data, table_mover_width, [table_row_height for _ in range(len(table_losers_data))])\n",
    "table_losers.setStyle(table_style_movers)\n",
    "\n",
    "table_mover_data = [[caption_gainers, Spacer(0.1*inch, 0), caption_losers],\n",
    "                    [table_gainers, Spacer(0.1*inch, 0), table_losers]]\n",
    "table_mover = Table(table_mover_data)"
   ]
  },
  {
   "cell_type": "code",
   "execution_count": 17,
   "metadata": {},
   "outputs": [],
   "source": [
    "table_events_width = sum(table_mover_width) * 2.133\n",
    "events_column_width = table_events_width / 6\n",
    "events_third_width = table_events_width - 4* events_column_width\n",
    "\n",
    "event_table_widths = [events_column_width, events_column_width, events_third_width, events_column_width, events_column_width]\n",
    "table_events_data = [[caption_events], [Spacer(0.1*inch, 0)], *table_events_data]\n",
    "table_events = Table(table_events_data, event_table_widths, [table_row_height for _ in range(len(table_events_data))])\n",
    "table_events.setStyle(table_style_events)"
   ]
  },
  {
   "cell_type": "code",
   "execution_count": 18,
   "metadata": {},
   "outputs": [],
   "source": [
    "def add_news_items(news_items):\n",
    "    return [\n",
    "        item for title, url in news_items for item in (\n",
    "            [\n",
    "                Paragraph(f\"&nbsp;&nbsp;&nbsp;&nbsp;{title}<br />&nbsp;&nbsp;&nbsp;&nbsp;<font color=blue>{url}</font>\", \n",
    "                          ParagraphStyle('Left', parent=styles['Normal'], alignment=0, fontName='NotoSansKR')),\n",
    "            ],\n",
    "            [\n",
    "                Spacer(1, 0.2*inch)\n",
    "            ]\n",
    "        )\n",
    "    ]\n",
    "\n",
    "def add_news_source(source, news_items):\n",
    "    return [\n",
    "        [Paragraph(f\"<b>● {source}</b>\", styles['BodyText'])]\n",
    "    ] + add_news_items(news_items)"
   ]
  },
  {
   "cell_type": "code",
   "execution_count": 19,
   "metadata": {},
   "outputs": [
    {
     "name": "stderr",
     "output_type": "stream",
     "text": [
      "Shortening Reuters URLs: 100%|██████████| 7/7 [00:07<00:00,  1.12s/it]\n",
      "Shortening FT URLs: 100%|██████████| 5/5 [00:05<00:00,  1.07s/it]\n"
     ]
    }
   ],
   "source": [
    "reuters_news, ft_news = mainnews.get_shortened_news()\n",
    "\n",
    "news_sources = [\n",
    "    (\"Reuters - Macro Matters\", reuters_news),\n",
    "    (\"Financial Times - Most Read: Markets\", ft_news)\n",
    "]\n",
    "\n",
    "news_result = []\n",
    "for source, news_items in news_sources:\n",
    "    news_result += add_news_source(source, news_items)"
   ]
  },
  {
   "cell_type": "code",
   "execution_count": 21,
   "metadata": {},
   "outputs": [],
   "source": [
    "table_news = Table(news_result, colWidths=[7.1*inch])\n",
    "table_news.setStyle(table_news_style)"
   ]
  },
  {
   "cell_type": "code",
   "execution_count": 22,
   "metadata": {},
   "outputs": [],
   "source": [
    "story.append(table_overview)\n",
    "story.append(Spacer(1, 0.3*inch))\n",
    "story.append(table_graph)\n",
    "story.append(Spacer(1, 0.3*inch))\n",
    "story.append(table_mover)\n",
    "story.append(Spacer(1, 0.3*inch))\n",
    "story.append(table_events)\n",
    "story.append(PageBreak())\n",
    "story.append(header_table)\n",
    "story.append(Spacer(1, 0.3*inch))\n",
    "story.append(table_news)\n",
    "doc.build(story)"
   ]
  },
  {
   "cell_type": "code",
   "execution_count": 23,
   "metadata": {},
   "outputs": [],
   "source": [
    "image_files = [\"nasdaq.png\", \"sp500.png\", \"sectors.png\"]\n",
    "for image_file in image_files:\n",
    "    image_path = os.path.join(assets_folder, image_file)\n",
    "    if os.path.exists(image_path):\n",
    "        os.remove(image_path)"
   ]
  },
  {
   "cell_type": "code",
   "execution_count": null,
   "metadata": {},
   "outputs": [],
   "source": []
  }
 ],
 "metadata": {
  "kernelspec": {
   "display_name": "TEST",
   "language": "python",
   "name": "python3"
  },
  "language_info": {
   "codemirror_mode": {
    "name": "ipython",
    "version": 3
   },
   "file_extension": ".py",
   "mimetype": "text/x-python",
   "name": "python",
   "nbconvert_exporter": "python",
   "pygments_lexer": "ipython3",
   "version": "3.11.3"
  },
  "orig_nbformat": 4
 },
 "nbformat": 4,
 "nbformat_minor": 2
}
